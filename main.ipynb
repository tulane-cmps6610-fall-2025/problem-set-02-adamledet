{
  "nbformat": 4,
  "nbformat_minor": 0,
  "metadata": {
    "colab": {
      "provenance": []
    },
    "kernelspec": {
      "name": "python3",
      "display_name": "Python 3"
    },
    "language_info": {
      "name": "python"
    }
  },
  "cells": [
    {
      "cell_type": "code",
      "execution_count": 46,
      "metadata": {
        "id": "NAExpA7juuWH"
      },
      "outputs": [],
      "source": [
        "\"\"\"\n",
        "CMPS 6610  Problem Set 2\n",
        "See problemset-02.pdf for details.\n",
        "\"\"\"\n",
        "import time\n",
        "\n",
        "class BinaryNumber:\n",
        "    \"\"\" done \"\"\"\n",
        "    def __init__(self, n):\n",
        "        self.decimal_val = n\n",
        "        self.binary_vec = list('{0:b}'.format(n))\n",
        "\n",
        "    def __repr__(self):\n",
        "        return('decimal=%d binary=%s' % (self.decimal_val, ''.join(self.binary_vec)))\n",
        "\n",
        "\n",
        "## Implement multiplication functions here. Note that you will have to\n",
        "## ensure that x, y are appropriately sized binary vectors for a\n",
        "## divide and conquer approach.\n",
        "\n",
        "# some useful utility functions to manipulate bit vectors\n",
        "def binary2int(binary_vec):\n",
        "    if len(binary_vec) == 0:\n",
        "        return BinaryNumber(0)\n",
        "    return BinaryNumber(int(''.join(binary_vec), 2))\n",
        "\n",
        "def split_number(vec):\n",
        "    return (binary2int(vec[:len(vec)//2]),\n",
        "            binary2int(vec[len(vec)//2:]))\n",
        "\n",
        "def bit_shift(number, n):\n",
        "    return binary2int(number.binary_vec + ['0'] * n)\n",
        "\n",
        "def pad(x,y):\n",
        "    # pad with leading 0 if x/y have different number of bits\n",
        "    if len(x) < len(y):\n",
        "        x = ['0'] * (len(y)-len(x)) + x\n",
        "    elif len(y) < len(x):\n",
        "        y = ['0'] * (len(x)-len(y)) + y\n",
        "    # pad with leading 0 if not even number of bits\n",
        "    if len(x) % 2 != 0:\n",
        "        x = ['0'] + x\n",
        "        y = ['0'] + y\n",
        "    return x,y\n",
        "\n",
        "def quadratic_multiply(x, y):\n",
        "    listX = list(str(x))\n",
        "    listY = list(str(y))\n",
        "    currentNum = []\n",
        "    counter = 0\n",
        "    for i in range(len(listX)):\n",
        "      for j in range(len(listY)):\n",
        "        currentNum.append(int(listX[len(listX)-i-1])*int(listY[len(listY)-j-1])*(10**i)*(10**j))\n",
        "        '''print(\"----- \",counter,\" -----\")\n",
        "        print(\"int(listX[len(listX)-i]) \", int(listX[len(listX)-i-1]))\n",
        "        print(\"int(listY[len(listY)-j]) \", int(listY[len(listY)-j-1]))\n",
        "        print(\"i) \", 10**i)\n",
        "        print(\"j) \", 10**j)\n",
        "        print(currentNum[counter])\n",
        "        counter+=1'''\n",
        "    return sum(currentNum)\n",
        "    ###\n",
        "\n",
        "def subquadratic_multiply(x, y):\n",
        "    listX = list(str(x))\n",
        "    listXa = listX[:(len(listX) // 2)]\n",
        "    listXb = listX[(len(listX) // 2):]\n",
        "    listY = list(str(y))\n",
        "    listYa = listY[:(len(listY) // 2)]\n",
        "    listYb = listY[(len(listY) // 2):]\n",
        "\n",
        "    #Attributes\n",
        "    z0 = int(\"\".join(listXb))*int(\"\".join(listYb))\n",
        "    z1 = (int(\"\".join(listXa))+int(\"\".join(listXb)))*(int(\"\".join(listYa))*int(\"\".join(listYb)))\n",
        "    z2 = int(\"\".join(listXa))*int(\"\".join(listYa))\n",
        "\n",
        "    #Mult 1\n",
        "    xPrime = listXa+\n",
        "\n",
        "    '''if(len(listX) == 1 and len(list(y)==1)):\n",
        "      return(x*y)\n",
        "    if(len(listX)>1 and len(listY)==1):\n",
        "      #SPLIT X AND NOT Y\n",
        "    if(len(listX)==1 and len(listY)>1):\n",
        "      #SPLIT Y AND NOT X\n",
        "    if(len(listX)>1 and len(listY)>1):\n",
        "      #SPLIT BOTH'''\n",
        "    return(\"Xa: \", listXa,\n",
        "           \"Xb: \", listXb,\n",
        "           \"Ya: \", listYa,\n",
        "           \"Yb: \", listYb)\n",
        "    ###\n",
        "\n",
        "## Feel free to add your own tests here.\n",
        "def test_multiply():\n",
        "    assert binary2int(quadratic_multiply(BinaryNumber(2), BinaryNumber(2))) == 2*2\n",
        "\n",
        "# some timing functions here that will make comparisons easy\n",
        "def time_multiply(x, y, f):\n",
        "    start = time.time()\n",
        "    # multiply two numbers x, y using function f\n",
        "    f(x,y)\n",
        "    return (time.time() - start)*1000\n",
        "\n",
        "def compare_multiply():\n",
        "    res = []\n",
        "    for n in [10,100,1000,10000,100000,1000000,10000000,100000000,1000000000]:\n",
        "        qtime = time_multiply(BinaryNumber(n), BinaryNumber(n), quadratic_multiply)\n",
        "        subqtime = time_multiply(BinaryNumber(n), BinaryNumber(n), subquadratic_multiply)\n",
        "        res.append((n, qtime, subqtime))\n",
        "    print_results(res)\n",
        "\n",
        "\n",
        "def print_results(results):\n",
        "    print(\"\\n\")\n",
        "    print(\n",
        "        tabulate.tabulate(\n",
        "            results,\n",
        "            headers=['n', 'quadratic', 'subquadratic'],\n",
        "            floatfmt=\".3f\",\n",
        "            tablefmt=\"github\"))"
      ]
    },
    {
      "cell_type": "code",
      "source": [
        "print(\"Answer: \",quadratic_multiply(25,13452))"
      ],
      "metadata": {
        "colab": {
          "base_uri": "https://localhost:8080/"
        },
        "id": "6T_GgPONxsf7",
        "outputId": "69a95c2e-4bcb-48b6-90ae-c378653cb88a"
      },
      "execution_count": 39,
      "outputs": [
        {
          "output_type": "stream",
          "name": "stdout",
          "text": [
            "Answer:  336300\n"
          ]
        }
      ]
    },
    {
      "cell_type": "code",
      "source": [
        "print(subquadratic_multiply(5,612))"
      ],
      "metadata": {
        "colab": {
          "base_uri": "https://localhost:8080/"
        },
        "id": "0_T3fKug3lcW",
        "outputId": "13cc1665-e917-4f8b-f1cd-115b5f5c60df"
      },
      "execution_count": 48,
      "outputs": [
        {
          "output_type": "stream",
          "name": "stdout",
          "text": [
            "('Xa: ', [], 'Xb: ', ['5'], 'Ya: ', ['6'], 'Yb: ', ['1', '2'])\n"
          ]
        }
      ]
    }
  ]
}